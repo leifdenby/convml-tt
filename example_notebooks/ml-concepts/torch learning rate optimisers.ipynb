{
 "cells": [
  {
   "cell_type": "code",
   "execution_count": 1,
   "metadata": {},
   "outputs": [],
   "source": [
    "import torch"
   ]
  },
  {
   "cell_type": "code",
   "execution_count": 34,
   "metadata": {},
   "outputs": [
    {
     "name": "stdout",
     "output_type": "stream",
     "text": [
      "Adam (\n",
      "Parameter Group 0\n",
      "    amsgrad: False\n",
      "    betas: (0.9, 0.999)\n",
      "    eps: 1e-08\n",
      "    lr: 0.001\n",
      "    weight_decay: 0\n",
      ")\n"
     ]
    }
   ],
   "source": [
    "n_epochs = 10\n",
    "\n",
    "model = torch.nn.Sequential(torch.nn.Linear(10, 5), torch.nn.Linear(5, 1))\n",
    "opt = torch.optim.Adam(model[0].parameters())\n",
    "\n",
    "\n",
    "print(opt)"
   ]
  },
  {
   "cell_type": "code",
   "execution_count": 33,
   "metadata": {
    "scrolled": false
   },
   "outputs": [
    {
     "name": "stdout",
     "output_type": "stream",
     "text": [
      "epoch 0\n",
      "0.001\n",
      "\n",
      "epoch 1\n",
      "0.001\n",
      "\n",
      "epoch 2\n",
      "0.0001\n",
      "0.001\n",
      "\n",
      "epoch 3\n",
      "0.0001\n",
      "0.001\n",
      "\n",
      "epoch 4\n",
      "1e-05\n",
      "0.0001\n",
      "\n",
      "epoch 5\n",
      "1e-05\n",
      "0.0001\n",
      "\n",
      "epoch 6\n",
      "1e-05\n",
      "0.0001\n",
      "\n",
      "epoch 7\n",
      "1e-05\n",
      "0.0001\n",
      "\n",
      "epoch 8\n",
      "1e-05\n",
      "0.0001\n",
      "\n",
      "epoch 9\n",
      "1e-05\n",
      "0.0001\n",
      "\n"
     ]
    }
   ],
   "source": [
    "lr_scheduler = torch.optim.lr_scheduler.MultiStepLR(opt, [2, 4])\n",
    "\n",
    "for i in range(n_epochs):\n",
    "    print(\"epoch\", i)\n",
    "    for pg in opt.param_groups:\n",
    "        print(pg[\"lr\"])\n",
    "    lr_scheduler.step()\n",
    "    if i == 1:\n",
    "        opt.add_param_group(dict(params=model[1].parameters()))\n",
    "    print()"
   ]
  },
  {
   "cell_type": "code",
   "execution_count": 38,
   "metadata": {},
   "outputs": [
    {
     "name": "stdout",
     "output_type": "stream",
     "text": [
      "epoch 0\n",
      "0.016000000000000014\n",
      "0.016000000000000014\n",
      "\n",
      "epoch 1\n",
      "0.20800000000000002\n",
      "0.20800000000000002\n",
      "\n",
      "epoch 2\n",
      "0.4\n",
      "0.4\n",
      "\n",
      "epoch 3\n",
      "0.38019385280538953\n",
      "0.38019385280538953\n",
      "\n",
      "epoch 4\n",
      "0.3246982615799052\n",
      "0.3246982615799052\n",
      "\n",
      "epoch 5\n",
      "0.24450480877451572\n",
      "0.24450480877451572\n",
      "\n",
      "epoch 6\n",
      "0.1554967912254843\n",
      "0.1554967912254843\n",
      "\n",
      "epoch 7\n",
      "0.0753033384200948\n",
      "0.0753033384200948\n",
      "\n",
      "epoch 8\n",
      "0.019807747194610516\n",
      "0.019807747194610516\n",
      "\n",
      "epoch 9\n",
      "1.6e-06\n",
      "1.6e-06\n",
      "\n"
     ]
    }
   ],
   "source": [
    "n_epochs = 10\n",
    "\n",
    "model = torch.nn.Sequential(torch.nn.Linear(10, 5), torch.nn.Linear(5, 1))\n",
    "opt = torch.optim.Adam(model[0].parameters())\n",
    "opt.add_param_group(dict(params=model[1].parameters(), lr=0.1))\n",
    "\n",
    "lr_scheduler = torch.optim.lr_scheduler.OneCycleLR(opt, max_lr=0.4, total_steps=10)\n",
    "\n",
    "for i in range(n_epochs):\n",
    "    print(\"epoch\", i)\n",
    "    for pg in opt.param_groups:\n",
    "        print(pg[\"lr\"])\n",
    "    lr_scheduler.step()        \n",
    "    print()"
   ]
  },
  {
   "cell_type": "code",
   "execution_count": null,
   "metadata": {},
   "outputs": [],
   "source": []
  }
 ],
 "metadata": {
  "kernelspec": {
   "display_name": "Python 2",
   "language": "python",
   "name": "python2"
  },
  "language_info": {
   "codemirror_mode": {
    "name": "ipython",
    "version": 2
   },
   "file_extension": ".py",
   "mimetype": "text/x-python",
   "name": "python",
   "nbconvert_exporter": "python",
   "pygments_lexer": "ipython2",
   "version": "2.7.15"
  }
 },
 "nbformat": 4,
 "nbformat_minor": 5
}
